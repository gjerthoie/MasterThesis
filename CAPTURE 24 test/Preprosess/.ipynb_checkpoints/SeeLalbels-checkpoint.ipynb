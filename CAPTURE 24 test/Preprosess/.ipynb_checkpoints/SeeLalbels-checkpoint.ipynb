{
 "cells": [
  {
   "cell_type": "code",
   "execution_count": 7,
   "id": "bb73ba9a-70a4-472c-ae61-c0a69d8d929a",
   "metadata": {},
   "outputs": [
    {
     "name": "stderr",
     "output_type": "stream",
     "text": [
      "C:\\Users\\Gjert\\AppData\\Local\\Temp\\ipykernel_34048\\1978875132.py:24: DtypeWarning: Columns (4) have mixed types. Specify dtype option on import or set low_memory=False.\n",
      "  df = pd.read_csv(file_path)\n"
     ]
    },
    {
     "name": "stdout",
     "output_type": "stream",
     "text": [
      "Saved cleaned file to C:\\Users\\Gjert\\Masteroppgave\\Datasets\\capture24\\properLabels\\P001.csv\n"
     ]
    },
    {
     "name": "stderr",
     "output_type": "stream",
     "text": [
      "C:\\Users\\Gjert\\AppData\\Local\\Temp\\ipykernel_34048\\1978875132.py:24: DtypeWarning: Columns (4) have mixed types. Specify dtype option on import or set low_memory=False.\n",
      "  df = pd.read_csv(file_path)\n"
     ]
    },
    {
     "name": "stdout",
     "output_type": "stream",
     "text": [
      "Saved cleaned file to C:\\Users\\Gjert\\Masteroppgave\\Datasets\\capture24\\properLabels\\P002.csv\n"
     ]
    },
    {
     "name": "stderr",
     "output_type": "stream",
     "text": [
      "C:\\Users\\Gjert\\AppData\\Local\\Temp\\ipykernel_34048\\1978875132.py:24: DtypeWarning: Columns (4) have mixed types. Specify dtype option on import or set low_memory=False.\n",
      "  df = pd.read_csv(file_path)\n"
     ]
    },
    {
     "name": "stdout",
     "output_type": "stream",
     "text": [
      "Saved cleaned file to C:\\Users\\Gjert\\Masteroppgave\\Datasets\\capture24\\properLabels\\P003.csv\n"
     ]
    },
    {
     "name": "stderr",
     "output_type": "stream",
     "text": [
      "C:\\Users\\Gjert\\AppData\\Local\\Temp\\ipykernel_34048\\1978875132.py:24: DtypeWarning: Columns (4) have mixed types. Specify dtype option on import or set low_memory=False.\n",
      "  df = pd.read_csv(file_path)\n"
     ]
    },
    {
     "name": "stdout",
     "output_type": "stream",
     "text": [
      "Saved cleaned file to C:\\Users\\Gjert\\Masteroppgave\\Datasets\\capture24\\properLabels\\P004.csv\n"
     ]
    },
    {
     "name": "stderr",
     "output_type": "stream",
     "text": [
      "C:\\Users\\Gjert\\AppData\\Local\\Temp\\ipykernel_34048\\1978875132.py:24: DtypeWarning: Columns (4) have mixed types. Specify dtype option on import or set low_memory=False.\n",
      "  df = pd.read_csv(file_path)\n"
     ]
    },
    {
     "name": "stdout",
     "output_type": "stream",
     "text": [
      "Saved cleaned file to C:\\Users\\Gjert\\Masteroppgave\\Datasets\\capture24\\properLabels\\P006.csv\n"
     ]
    },
    {
     "name": "stderr",
     "output_type": "stream",
     "text": [
      "C:\\Users\\Gjert\\AppData\\Local\\Temp\\ipykernel_34048\\1978875132.py:24: DtypeWarning: Columns (4) have mixed types. Specify dtype option on import or set low_memory=False.\n",
      "  df = pd.read_csv(file_path)\n"
     ]
    },
    {
     "name": "stdout",
     "output_type": "stream",
     "text": [
      "Saved cleaned file to C:\\Users\\Gjert\\Masteroppgave\\Datasets\\capture24\\properLabels\\P007.csv\n"
     ]
    },
    {
     "name": "stderr",
     "output_type": "stream",
     "text": [
      "C:\\Users\\Gjert\\AppData\\Local\\Temp\\ipykernel_34048\\1978875132.py:24: DtypeWarning: Columns (4) have mixed types. Specify dtype option on import or set low_memory=False.\n",
      "  df = pd.read_csv(file_path)\n"
     ]
    },
    {
     "name": "stdout",
     "output_type": "stream",
     "text": [
      "Saved cleaned file to C:\\Users\\Gjert\\Masteroppgave\\Datasets\\capture24\\properLabels\\P016.csv\n"
     ]
    },
    {
     "name": "stderr",
     "output_type": "stream",
     "text": [
      "C:\\Users\\Gjert\\AppData\\Local\\Temp\\ipykernel_34048\\1978875132.py:24: DtypeWarning: Columns (4) have mixed types. Specify dtype option on import or set low_memory=False.\n",
      "  df = pd.read_csv(file_path)\n"
     ]
    },
    {
     "name": "stdout",
     "output_type": "stream",
     "text": [
      "Saved cleaned file to C:\\Users\\Gjert\\Masteroppgave\\Datasets\\capture24\\properLabels\\P020.csv\n"
     ]
    },
    {
     "name": "stderr",
     "output_type": "stream",
     "text": [
      "C:\\Users\\Gjert\\AppData\\Local\\Temp\\ipykernel_34048\\1978875132.py:24: DtypeWarning: Columns (4) have mixed types. Specify dtype option on import or set low_memory=False.\n",
      "  df = pd.read_csv(file_path)\n"
     ]
    },
    {
     "name": "stdout",
     "output_type": "stream",
     "text": [
      "Saved cleaned file to C:\\Users\\Gjert\\Masteroppgave\\Datasets\\capture24\\properLabels\\P021.csv\n"
     ]
    },
    {
     "name": "stderr",
     "output_type": "stream",
     "text": [
      "C:\\Users\\Gjert\\AppData\\Local\\Temp\\ipykernel_34048\\1978875132.py:24: DtypeWarning: Columns (4) have mixed types. Specify dtype option on import or set low_memory=False.\n",
      "  df = pd.read_csv(file_path)\n"
     ]
    },
    {
     "name": "stdout",
     "output_type": "stream",
     "text": [
      "Saved cleaned file to C:\\Users\\Gjert\\Masteroppgave\\Datasets\\capture24\\properLabels\\P025.csv\n"
     ]
    },
    {
     "name": "stderr",
     "output_type": "stream",
     "text": [
      "C:\\Users\\Gjert\\AppData\\Local\\Temp\\ipykernel_34048\\1978875132.py:24: DtypeWarning: Columns (4) have mixed types. Specify dtype option on import or set low_memory=False.\n",
      "  df = pd.read_csv(file_path)\n"
     ]
    },
    {
     "name": "stdout",
     "output_type": "stream",
     "text": [
      "Saved cleaned file to C:\\Users\\Gjert\\Masteroppgave\\Datasets\\capture24\\properLabels\\P029.csv\n"
     ]
    },
    {
     "name": "stderr",
     "output_type": "stream",
     "text": [
      "C:\\Users\\Gjert\\AppData\\Local\\Temp\\ipykernel_34048\\1978875132.py:24: DtypeWarning: Columns (4) have mixed types. Specify dtype option on import or set low_memory=False.\n",
      "  df = pd.read_csv(file_path)\n"
     ]
    },
    {
     "name": "stdout",
     "output_type": "stream",
     "text": [
      "Saved cleaned file to C:\\Users\\Gjert\\Masteroppgave\\Datasets\\capture24\\properLabels\\P030.csv\n"
     ]
    },
    {
     "name": "stderr",
     "output_type": "stream",
     "text": [
      "C:\\Users\\Gjert\\AppData\\Local\\Temp\\ipykernel_34048\\1978875132.py:24: DtypeWarning: Columns (4) have mixed types. Specify dtype option on import or set low_memory=False.\n",
      "  df = pd.read_csv(file_path)\n"
     ]
    },
    {
     "name": "stdout",
     "output_type": "stream",
     "text": [
      "Saved cleaned file to C:\\Users\\Gjert\\Masteroppgave\\Datasets\\capture24\\properLabels\\P032.csv\n"
     ]
    },
    {
     "name": "stderr",
     "output_type": "stream",
     "text": [
      "C:\\Users\\Gjert\\AppData\\Local\\Temp\\ipykernel_34048\\1978875132.py:24: DtypeWarning: Columns (4) have mixed types. Specify dtype option on import or set low_memory=False.\n",
      "  df = pd.read_csv(file_path)\n"
     ]
    },
    {
     "name": "stdout",
     "output_type": "stream",
     "text": [
      "Saved cleaned file to C:\\Users\\Gjert\\Masteroppgave\\Datasets\\capture24\\properLabels\\P038.csv\n"
     ]
    },
    {
     "name": "stderr",
     "output_type": "stream",
     "text": [
      "C:\\Users\\Gjert\\AppData\\Local\\Temp\\ipykernel_34048\\1978875132.py:24: DtypeWarning: Columns (4) have mixed types. Specify dtype option on import or set low_memory=False.\n",
      "  df = pd.read_csv(file_path)\n"
     ]
    },
    {
     "name": "stdout",
     "output_type": "stream",
     "text": [
      "Saved cleaned file to C:\\Users\\Gjert\\Masteroppgave\\Datasets\\capture24\\properLabels\\P045.csv\n"
     ]
    },
    {
     "name": "stderr",
     "output_type": "stream",
     "text": [
      "C:\\Users\\Gjert\\AppData\\Local\\Temp\\ipykernel_34048\\1978875132.py:24: DtypeWarning: Columns (4) have mixed types. Specify dtype option on import or set low_memory=False.\n",
      "  df = pd.read_csv(file_path)\n"
     ]
    },
    {
     "name": "stdout",
     "output_type": "stream",
     "text": [
      "Saved cleaned file to C:\\Users\\Gjert\\Masteroppgave\\Datasets\\capture24\\properLabels\\P047.csv\n"
     ]
    },
    {
     "name": "stderr",
     "output_type": "stream",
     "text": [
      "C:\\Users\\Gjert\\AppData\\Local\\Temp\\ipykernel_34048\\1978875132.py:24: DtypeWarning: Columns (4) have mixed types. Specify dtype option on import or set low_memory=False.\n",
      "  df = pd.read_csv(file_path)\n"
     ]
    },
    {
     "name": "stdout",
     "output_type": "stream",
     "text": [
      "Saved cleaned file to C:\\Users\\Gjert\\Masteroppgave\\Datasets\\capture24\\properLabels\\P058.csv\n"
     ]
    },
    {
     "name": "stderr",
     "output_type": "stream",
     "text": [
      "C:\\Users\\Gjert\\AppData\\Local\\Temp\\ipykernel_34048\\1978875132.py:24: DtypeWarning: Columns (4) have mixed types. Specify dtype option on import or set low_memory=False.\n",
      "  df = pd.read_csv(file_path)\n"
     ]
    },
    {
     "name": "stdout",
     "output_type": "stream",
     "text": [
      "Saved cleaned file to C:\\Users\\Gjert\\Masteroppgave\\Datasets\\capture24\\properLabels\\P063.csv\n"
     ]
    },
    {
     "name": "stderr",
     "output_type": "stream",
     "text": [
      "C:\\Users\\Gjert\\AppData\\Local\\Temp\\ipykernel_34048\\1978875132.py:24: DtypeWarning: Columns (4) have mixed types. Specify dtype option on import or set low_memory=False.\n",
      "  df = pd.read_csv(file_path)\n"
     ]
    },
    {
     "name": "stdout",
     "output_type": "stream",
     "text": [
      "Saved cleaned file to C:\\Users\\Gjert\\Masteroppgave\\Datasets\\capture24\\properLabels\\P081.csv\n"
     ]
    },
    {
     "name": "stderr",
     "output_type": "stream",
     "text": [
      "C:\\Users\\Gjert\\AppData\\Local\\Temp\\ipykernel_34048\\1978875132.py:24: DtypeWarning: Columns (4) have mixed types. Specify dtype option on import or set low_memory=False.\n",
      "  df = pd.read_csv(file_path)\n"
     ]
    },
    {
     "name": "stdout",
     "output_type": "stream",
     "text": [
      "Saved cleaned file to C:\\Users\\Gjert\\Masteroppgave\\Datasets\\capture24\\properLabels\\P088.csv\n",
      "\n",
      "✅ Done cleaning all files!\n"
     ]
    }
   ],
   "source": [
    "import pandas as pd\n",
    "import os\n",
    "\n",
    "# Define paths\n",
    "input_folder = r'C:\\Users\\Gjert\\Masteroppgave\\Datasets\\capture24'\n",
    "output_folder = r'C:\\Users\\Gjert\\Masteroppgave\\Datasets\\capture24\\properLabels'\n",
    "\n",
    "# Make sure the output folder exists\n",
    "os.makedirs(output_folder, exist_ok=True)\n",
    "\n",
    "# List of specific files\n",
    "capture24_files = [\n",
    "    'P001.csv', 'P002.csv', 'P003.csv', 'P004.csv', 'P006.csv', 'P007.csv',\n",
    "    'P016.csv', 'P020.csv', 'P021.csv', 'P025.csv', 'P029.csv', 'P030.csv',\n",
    "    'P032.csv', 'P038.csv', 'P045.csv', 'P047.csv', 'P058.csv', 'P063.csv',\n",
    "    'P081.csv', 'P088.csv'\n",
    "]\n",
    "\n",
    "# Loop through each file\n",
    "for file in capture24_files:\n",
    "    file_path = os.path.join(input_folder, file)\n",
    "    \n",
    "    # Read CSV\n",
    "    df = pd.read_csv(file_path)\n",
    "\n",
    "    # Make sure 'time' is datetime\n",
    "    df['time'] = pd.to_datetime(df['time'])\n",
    "\n",
    "    # Filter out times between 01:00 and 06:00\n",
    "    df = df[~((df['time'].dt.hour >= 1) & (df['time'].dt.hour < 6))]\n",
    "\n",
    "    # Save the cleaned file\n",
    "    save_path = os.path.join(output_folder, file)\n",
    "    df.to_csv(save_path, index=False)\n",
    "\n",
    "    print(f\"Saved cleaned file to {save_path}\")\n",
    "\n",
    "print(\"\\n Done cleaning all files!\")\n"
   ]
  },
  {
   "cell_type": "code",
   "execution_count": null,
   "id": "a6d50e21-8304-4e8c-97a1-093204b4489a",
   "metadata": {},
   "outputs": [],
   "source": []
  }
 ],
 "metadata": {
  "kernelspec": {
   "display_name": "Python [conda env:base] *",
   "language": "python",
   "name": "conda-base-py"
  },
  "language_info": {
   "codemirror_mode": {
    "name": "ipython",
    "version": 3
   },
   "file_extension": ".py",
   "mimetype": "text/x-python",
   "name": "python",
   "nbconvert_exporter": "python",
   "pygments_lexer": "ipython3",
   "version": "3.11.7"
  }
 },
 "nbformat": 4,
 "nbformat_minor": 5
}
