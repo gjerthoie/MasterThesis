{
 "cells": [
  {
   "cell_type": "code",
   "execution_count": 1,
   "id": "a6ff44c1-a7b5-449e-b853-084efa6b08d8",
   "metadata": {},
   "outputs": [],
   "source": [
    "import pandas as pd\n",
    "import os\n",
    "import re  # Regular expression library\n"
   ]
  },
  {
   "cell_type": "code",
   "execution_count": 3,
   "id": "583ccb6a-fde4-4abb-b205-cc0ed0e89d2b",
   "metadata": {},
   "outputs": [],
   "source": [
    "# Specify the directory containing the files\n",
    "directory = 'C:\\Users\\Gjert\\Masteroppgave\\Datasets\\GOTOV\\Windows_User_individual\\\\'\n",
    "\n",
    "# List all CSV files in the directory\n",
    "file_paths = [os.path.join(directory, file) for file in os.listdir(directory) if file.startswith('GOTOV') and file.endswith('.csv')]\n",
    "file_paths.sort() \n"
   ]
  },
  {
   "cell_type": "code",
   "execution_count": 5,
   "id": "cd20219c-4964-47a2-bb1c-532e33b93e9a",
   "metadata": {},
   "outputs": [
    {
     "name": "stderr",
     "output_type": "stream",
     "text": [
      "C:\\Users\\Gjert\\AppData\\Local\\Temp\\ipykernel_22824\\2726421205.py:8: DtypeWarning: Columns (5) have mixed types. Specify dtype option on import or set low_memory=False.\n",
      "  df = pd.read_csv(file_path)\n",
      "C:\\Users\\Gjert\\AppData\\Local\\Temp\\ipykernel_22824\\2726421205.py:8: DtypeWarning: Columns (5) have mixed types. Specify dtype option on import or set low_memory=False.\n",
      "  df = pd.read_csv(file_path)\n",
      "C:\\Users\\Gjert\\AppData\\Local\\Temp\\ipykernel_22824\\2726421205.py:8: DtypeWarning: Columns (5) have mixed types. Specify dtype option on import or set low_memory=False.\n",
      "  df = pd.read_csv(file_path)\n",
      "C:\\Users\\Gjert\\AppData\\Local\\Temp\\ipykernel_22824\\2726421205.py:8: DtypeWarning: Columns (5) have mixed types. Specify dtype option on import or set low_memory=False.\n",
      "  df = pd.read_csv(file_path)\n",
      "C:\\Users\\Gjert\\AppData\\Local\\Temp\\ipykernel_22824\\2726421205.py:8: DtypeWarning: Columns (5) have mixed types. Specify dtype option on import or set low_memory=False.\n",
      "  df = pd.read_csv(file_path)\n"
     ]
    }
   ],
   "source": [
    "\n",
    "# Initialize an empty list to hold DataFrames\n",
    "dataframes = []\n",
    "user_id = 1  # Start user_id from 1\n",
    "\n",
    "# Loop through the sorted list of file paths\n",
    "for file_path in file_paths:\n",
    "    # Read the CSV file\n",
    "    df = pd.read_csv(file_path)\n",
    "    \n",
    "    # Drop rows where 'label' is NA\n",
    "    df = df.dropna(subset=['labels'])\n",
    "\n",
    "    # Append the user_id as a new column\n",
    "    df['user_id'] = user_id\n",
    "    \n",
    "    # Append the DataFrame to the list of DataFrames\n",
    "    dataframes.append(df)\n",
    "\n",
    "    # Increment the user_id for the next file\n",
    "    user_id += 1\n",
    "\n",
    "# Concatenate all DataFrames into a single DataFrame\n",
    "combined_df = pd.concat(dataframes, ignore_index=True)\n"
   ]
  },
  {
   "cell_type": "code",
   "execution_count": 21,
   "id": "4916e8f4-67a0-457e-8ad5-030a2d2d7843",
   "metadata": {},
   "outputs": [
    {
     "name": "stdout",
     "output_type": "stream",
     "text": [
      "Combined DataFrame has been saved to: combined_file.csv\n",
      "Here's a summary of the combined DataFrame:\n",
      "<class 'pandas.core.frame.DataFrame'>\n",
      "RangeIndex: 7464892 entries, 0 to 7464891\n",
      "Data columns (total 7 columns):\n",
      " #   Column      Dtype  \n",
      "---  ------      -----  \n",
      " 0   Unnamed: 0  int64  \n",
      " 1   time        float64\n",
      " 2   x           float64\n",
      " 3   y           float64\n",
      " 4   z           float64\n",
      " 5   labels      object \n",
      " 6   user_id     int64  \n",
      "dtypes: float64(4), int64(2), object(1)\n",
      "memory usage: 398.7+ MB\n",
      "None\n",
      "\n",
      "First few rows of the combined DataFrame:\n",
      "   Unnamed: 0          time       x       y       z       labels  user_id\n",
      "0       12129  1.449045e+12 -0.1969  0.9021 -0.4356  syncJumping        1\n",
      "1       12130  1.449045e+12 -0.2046  0.9060 -0.4317  syncJumping        1\n",
      "2       12131  1.449045e+12 -0.2008  0.9021 -0.4317  syncJumping        1\n",
      "3       12132  1.449045e+12 -0.1969  0.8982 -0.4356  syncJumping        1\n",
      "4       12133  1.449045e+12 -0.1969  0.9060 -0.4278  syncJumping        1\n"
     ]
    }
   ],
   "source": [
    "import os\n",
    "import pandas as pd\n",
    "\n",
    "# Save the combined DataFrame to a CSV file in the current directory\n",
    "combined_csv_path = 'combined_file.csv'\n",
    "combined_df.to_csv(combined_csv_path, index=False)\n",
    "print(\"Combined DataFrame has been saved to:\", combined_csv_path)\n",
    "print(\"Here's a summary of the combined DataFrame:\")\n",
    "print(combined_df.info())\n",
    "print(\"\\nFirst few rows of the combined DataFrame:\")\n",
    "print(combined_df.head())\n"
   ]
  },
  {
   "cell_type": "code",
   "execution_count": 22,
   "id": "5b5154d6-1340-4a4b-94a7-20e99d2d983d",
   "metadata": {},
   "outputs": [],
   "source": [
    "df = pd.read_csv('combined_file.csv')\n"
   ]
  },
  {
   "cell_type": "code",
   "execution_count": 23,
   "id": "b3959f67-e9f3-4d84-a7e5-7c0cb522c886",
   "metadata": {},
   "outputs": [
    {
     "name": "stdout",
     "output_type": "stream",
     "text": [
      "Index(['Unnamed: 0', 'time', 'x', 'y', 'z', 'labels', 'user_id'], dtype='object')\n"
     ]
    }
   ],
   "source": [
    "print(df.columns)\n"
   ]
  },
  {
   "cell_type": "code",
   "execution_count": 24,
   "id": "49f6379c-0ed4-4022-9e84-836be4b1b13f",
   "metadata": {},
   "outputs": [
    {
     "name": "stdout",
     "output_type": "stream",
     "text": [
      "['syncJumping' 'standing' 'lyingDownLeft' 'lyingDownRight' 'sittingSofa'\n",
      " 'sittingCouch' 'sittingChair' 'walkingStairsUp' 'dishwashing'\n",
      " 'stakingShelves' 'vacuumCleaning' 'walkingSlow' 'walkingNormal'\n",
      " 'walkingFast' 'cycling' 'step']\n"
     ]
    }
   ],
   "source": [
    "unique_activities = df['labels'].unique()\n",
    "\n",
    "# Print all unique activity IDs\n",
    "print(unique_activities)\n"
   ]
  },
  {
   "cell_type": "code",
   "execution_count": 25,
   "id": "478e184d-b250-4efd-9d78-3735d707537d",
   "metadata": {},
   "outputs": [],
   "source": [
    "rename_dict = {\n",
    "    'x': 'AccX',\n",
    "    'y': 'AccY',\n",
    "    'z': 'AccZ',\n",
    "    'labels': 'label'\n",
    "}"
   ]
  },
  {
   "cell_type": "code",
   "execution_count": 26,
   "id": "4654118e-9c0d-4d0a-80cc-30dc2aa199d1",
   "metadata": {},
   "outputs": [
    {
     "name": "stdout",
     "output_type": "stream",
     "text": [
      "Index(['Unnamed: 0', 'time', 'AccX', 'AccY', 'AccZ', 'label', 'user_id'], dtype='object')\n"
     ]
    }
   ],
   "source": [
    "df.rename(columns=rename_dict, inplace=True)\n",
    "print(df.columns)\n"
   ]
  },
  {
   "cell_type": "code",
   "execution_count": 27,
   "id": "652ee9dc-e0af-4c5e-8002-d65f72ac8471",
   "metadata": {},
   "outputs": [],
   "source": [
    "df.to_csv('combined_file.csv', index=False)"
   ]
  },
  {
   "cell_type": "code",
   "execution_count": 28,
   "id": "41846b93-331d-43f0-8944-4ff7a861cf79",
   "metadata": {},
   "outputs": [],
   "source": [
    "label_mappings = {\n",
    "    'walkingFast': 'walking',\n",
    "    'walkingNormal': 'walking',\n",
    "    'walkingSlow': 'walking',\n",
    "    'sittingChair': 'sitting',\n",
    "    'sittingCouch': 'sitting',\n",
    "    'sittingSofa': 'sitting',\n",
    "    'syncJumping': 'jumping',\n",
    "    'rope_jumping': 'jumping',\n",
    "    'descending_stairs': 'walkingStairsDown',\n",
    "    'ascending_stairs': 'walkingStairsUp',\n",
    "    'Nordic_walking': 'walking', \n",
    "    'vacuumCleaning': 'vacuum_cleaning',\n",
    "    'lyingDownLeft': 'lying', \n",
    "    'lyingDownRight': 'lying',\n",
    "    'stakingShelves': 'standing_hosehold_chores',\n",
    "    'dishwashing': 'standing_hosehold_chores',\n",
    "    'ironing': 'standing_hosehold_chores' \n",
    "\n",
    "}"
   ]
  },
  {
   "cell_type": "code",
   "execution_count": 29,
   "id": "b1051f83-dc4f-4bde-a7d7-e5290efad159",
   "metadata": {},
   "outputs": [],
   "source": [
    "df['label'] = df['label'].replace(label_mappings)\n"
   ]
  },
  {
   "cell_type": "code",
   "execution_count": 30,
   "id": "ee5dfa8c-af3c-49ca-9f16-759cffba106f",
   "metadata": {},
   "outputs": [],
   "source": [
    "df = df[df['label'] != 'step']\n"
   ]
  },
  {
   "cell_type": "code",
   "execution_count": 31,
   "id": "7a35f01f-4bcf-4fb8-8f7a-753176ae6093",
   "metadata": {},
   "outputs": [],
   "source": [
    "df.to_csv('combined_file.csv', index=False)"
   ]
  },
  {
   "cell_type": "code",
   "execution_count": 32,
   "id": "ccd0dbbf-fe03-42e2-b000-1c49dc68d174",
   "metadata": {},
   "outputs": [
    {
     "name": "stdout",
     "output_type": "stream",
     "text": [
      "['jumping' 'standing' 'lying' 'sitting' 'walkingStairsUp'\n",
      " 'standing_hosehold_chores' 'vacuum_cleaning' 'walking' 'cycling']\n"
     ]
    }
   ],
   "source": [
    "unique_activities = df['label'].unique()\n",
    "\n",
    "# Print all unique activity IDs\n",
    "print(unique_activities)"
   ]
  },
  {
   "cell_type": "code",
   "execution_count": null,
   "id": "4e57e28c-97d8-422a-8dd0-d1f939d720c8",
   "metadata": {},
   "outputs": [],
   "source": []
  }
 ],
 "metadata": {
  "kernelspec": {
   "display_name": "Python [conda env:base] *",
   "language": "python",
   "name": "conda-base-py"
  },
  "language_info": {
   "codemirror_mode": {
    "name": "ipython",
    "version": 3
   },
   "file_extension": ".py",
   "mimetype": "text/x-python",
   "name": "python",
   "nbconvert_exporter": "python",
   "pygments_lexer": "ipython3",
   "version": "3.11.7"
  }
 },
 "nbformat": 4,
 "nbformat_minor": 5
}
