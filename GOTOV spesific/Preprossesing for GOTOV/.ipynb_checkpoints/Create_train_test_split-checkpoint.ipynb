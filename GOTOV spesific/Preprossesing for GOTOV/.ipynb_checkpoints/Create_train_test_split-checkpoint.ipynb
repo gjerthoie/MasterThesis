{
 "cells": [
  {
   "cell_type": "code",
   "execution_count": 11,
   "id": "f03cf63d-8b2a-4135-a015-e92c6e91eb03",
   "metadata": {},
   "outputs": [
    {
     "name": "stdout",
     "output_type": "stream",
     "text": [
      "Test shape: (41810, 42)\n",
      "Train shape: (203001, 42)\n"
     ]
    }
   ],
   "source": [
    "import pandas as pd\n",
    "import os\n",
    "\n",
    "data_dir = r\"C:\\Users\\Gjert\\Masteroppgave\\Datasets\\GOTOV\\Windows_User_individual\"\n",
    "\n",
    "# Get filenames:\n",
    "\n",
    "test_files = [f\"GOTOV_with_WINDOWS_{i}.csv\" for i in range(1, 6)]\n",
    "train_files = [f\"GOTOV_with_WINDOWS_{i}.csv\" for i in range(6, 36)]\n",
    "\n",
    "# Read and concatenate the files\n",
    "df_test = pd.concat(\n",
    "    [pd.read_csv(os.path.join(data_dir, f)) for f in test_files],\n",
    "    ignore_index=True\n",
    ")\n",
    "df_train = pd.concat(\n",
    "    [pd.read_csv(os.path.join(data_dir, f)) for f in train_files],\n",
    "    ignore_index=True\n",
    ")\n",
    "\n",
    "# Check results\n",
    "print(f\"Test shape: {df_test.shape}\")\n",
    "print(f\"Train shape: {df_train.shape}\")\n",
    "\n",
    "df_test.to_csv(\"test_data.csv\", index=False)\n",
    "df_train.to_csv(\"train_data.csv\", index=False)\n"
   ]
  },
  {
   "cell_type": "code",
   "execution_count": 3,
   "id": "6dfd2d09-5d1d-44b3-8698-28928707dd5c",
   "metadata": {},
   "outputs": [
    {
     "name": "stdout",
     "output_type": "stream",
     "text": [
      "Train shape: (203001, 42)\n",
      "Test shape: (41810, 42)\n"
     ]
    }
   ],
   "source": [
    "import pandas as pd\n",
    "import os\n",
    "\n",
    "# Load the CSV files\n",
    "train_data = pd.read_csv('train_data.csv')\n",
    "test_data = pd.read_csv('test_data.csv')\n",
    "\n",
    "# Print to verify\n",
    "print(\"Train shape:\", train_data.shape)\n",
    "print(\"Test shape:\", test_data.shape)"
   ]
  },
  {
   "cell_type": "code",
   "execution_count": 5,
   "id": "107b735b-8c2e-4ed0-8f0e-301aadc91428",
   "metadata": {},
   "outputs": [
    {
     "name": "stdout",
     "output_type": "stream",
     "text": [
      "Index(['Ax_mean', 'Ax_std', 'Ax_mad', 'Ax_max', 'Ax_min', 'Ax_sma',\n",
      "       'Ax_energy', 'Ax_iqr', 'Ax_entropy', 'Ax_meanFreq', 'Ax_skewness',\n",
      "       'Ax_kurtosis', 'Ax_maxInds', 'Ay_mean', 'Ay_std', 'Ay_mad', 'Ay_max',\n",
      "       'Ay_min', 'Ay_sma', 'Ay_energy', 'Ay_iqr', 'Ay_entropy', 'Ay_meanFreq',\n",
      "       'Ay_skewness', 'Ay_kurtosis', 'Ay_maxInds', 'Az_mean', 'Az_std',\n",
      "       'Az_mad', 'Az_max', 'Az_min', 'Az_sma', 'Az_energy', 'Az_iqr',\n",
      "       'Az_entropy', 'Az_meanFreq', 'Az_skewness', 'Az_kurtosis', 'Az_maxInds',\n",
      "       'window_id', 'label', 'user_id'],\n",
      "      dtype='object')\n",
      "Index(['Ax_mean', 'Ax_std', 'Ax_mad', 'Ax_max', 'Ax_min', 'Ax_sma',\n",
      "       'Ax_energy', 'Ax_iqr', 'Ax_entropy', 'Ax_meanFreq', 'Ax_skewness',\n",
      "       'Ax_kurtosis', 'Ax_maxInds', 'Ay_mean', 'Ay_std', 'Ay_mad', 'Ay_max',\n",
      "       'Ay_min', 'Ay_sma', 'Ay_energy', 'Ay_iqr', 'Ay_entropy', 'Ay_meanFreq',\n",
      "       'Ay_skewness', 'Ay_kurtosis', 'Ay_maxInds', 'Az_mean', 'Az_std',\n",
      "       'Az_mad', 'Az_max', 'Az_min', 'Az_sma', 'Az_energy', 'Az_iqr',\n",
      "       'Az_entropy', 'Az_meanFreq', 'Az_skewness', 'Az_kurtosis', 'Az_maxInds',\n",
      "       'window_id', 'label', 'user_id'],\n",
      "      dtype='object')\n"
     ]
    }
   ],
   "source": [
    "print(train_data.columns)\n",
    "print(test_data.columns)\n"
   ]
  },
  {
   "cell_type": "code",
   "execution_count": 7,
   "id": "30dfe966-29ab-4723-8ddb-0150b18ef10d",
   "metadata": {},
   "outputs": [
    {
     "name": "stdout",
     "output_type": "stream",
     "text": [
      "[ 6  7  8  9 10 11 12 13 14 15 16 17 18 19 20 21 22 23 24 25 26 27 28 29\n",
      " 30 31 32 33 34 35]\n",
      "[1 2 3 4 5]\n"
     ]
    }
   ],
   "source": [
    "print(train_data['user_id'].unique())\n",
    "print(test_data['user_id'].unique())\n"
   ]
  },
  {
   "cell_type": "code",
   "execution_count": 9,
   "id": "1155c4e2-8743-4dfb-9337-abbfed234c6b",
   "metadata": {},
   "outputs": [
    {
     "name": "stdout",
     "output_type": "stream",
     "text": [
      "Train_2 shape: (2070, 42)\n",
      "New Test_data shape: (39740, 42)\n"
     ]
    }
   ],
   "source": [
    "import pandas as pd\n",
    "\n",
    "# Empty DataFrames to store the results\n",
    "train_2 = pd.DataFrame()\n",
    "test_data_new = pd.DataFrame()\n",
    "\n",
    "# Go through each user_id\n",
    "for user in test_data['user_id'].unique():\n",
    "    user_data = test_data[test_data['user_id'] == user]\n",
    "    \n",
    "    # Go through each label for this user\n",
    "    for label in user_data['label'].unique():\n",
    "        user_label_data = user_data[user_data['label'] == label]\n",
    "        \n",
    "        # Calculate how many samples are 5% (at least 1)\n",
    "        n_samples = max(1, int(0.05 * len(user_label_data)))\n",
    "        \n",
    "        # Split: first 5% to train_2, rest stays in test_data_new\n",
    "        train_2 = pd.concat([train_2, user_label_data.iloc[:n_samples]])\n",
    "        test_data_new = pd.concat([test_data_new, user_label_data.iloc[n_samples:]])\n",
    "\n",
    "# Reset index to keep things clean\n",
    "train_2 = train_2.reset_index(drop=True)\n",
    "test_data = test_data_new.reset_index(drop=True)\n",
    "\n",
    "# Check results\n",
    "print(\"Train_2 shape:\", train_2.shape)\n",
    "print(\"New Test_data shape:\", test_data_new.shape)\n"
   ]
  },
  {
   "cell_type": "code",
   "execution_count": 11,
   "id": "3a495d49-76b4-4331-8266-ad80f747bcb5",
   "metadata": {},
   "outputs": [
    {
     "name": "stdout",
     "output_type": "stream",
     "text": [
      "\n",
      "Label counts per user in train_2:\n",
      "user_id  label                   \n",
      "1        cycling                     122\n",
      "         jumping                       2\n",
      "         lying                        47\n",
      "         sitting                      78\n",
      "         standing                      8\n",
      "         standing_hosehold_chores     51\n",
      "         vacuum_cleaning              25\n",
      "         walking                     130\n",
      "         walkingStairsUp               2\n",
      "2        cycling                     120\n",
      "         jumping                       2\n",
      "         lying                        51\n",
      "         sitting                      77\n",
      "         standing                      8\n",
      "         standing_hosehold_chores     52\n",
      "         vacuum_cleaning              30\n",
      "         walking                     128\n",
      "         walkingStairsUp               3\n",
      "3        cycling                     106\n",
      "         jumping                       3\n",
      "         lying                        49\n",
      "         sitting                      78\n",
      "         standing                      7\n",
      "         standing_hosehold_chores     52\n",
      "         vacuum_cleaning              30\n",
      "         walking                     128\n",
      "         walkingStairsUp               2\n",
      "4        jumping                       3\n",
      "         lying                        51\n",
      "         sitting                      51\n",
      "         standing                      8\n",
      "         standing_hosehold_chores     51\n",
      "         vacuum_cleaning              25\n",
      "         walking                     130\n",
      "         walkingStairsUp               2\n",
      "5        jumping                       2\n",
      "         lying                        51\n",
      "         sitting                      77\n",
      "         standing                     22\n",
      "         standing_hosehold_chores     51\n",
      "         vacuum_cleaning              25\n",
      "         walking                     128\n",
      "         walkingStairsUp               2\n",
      "dtype: int64\n",
      "\n",
      "Label counts per user in new test_data:\n",
      "user_id  label                   \n",
      "1        cycling                     2336\n",
      "         jumping                       56\n",
      "         lying                        896\n",
      "         sitting                     1500\n",
      "         standing                     164\n",
      "         standing_hosehold_chores     978\n",
      "         vacuum_cleaning              490\n",
      "         walking                     2485\n",
      "         walkingStairsUp               47\n",
      "2        cycling                     2283\n",
      "         jumping                       55\n",
      "         lying                        978\n",
      "         sitting                     1466\n",
      "         standing                     163\n",
      "         standing_hosehold_chores    1005\n",
      "         vacuum_cleaning              570\n",
      "         walking                     2443\n",
      "         walkingStairsUp               60\n",
      "3        cycling                     2022\n",
      "         jumping                       60\n",
      "         lying                        948\n",
      "         sitting                     1493\n",
      "         standing                     145\n",
      "         standing_hosehold_chores    1006\n",
      "         vacuum_cleaning              570\n",
      "         walking                     2444\n",
      "         walkingStairsUp               49\n",
      "4        jumping                       60\n",
      "         lying                        978\n",
      "         sitting                      978\n",
      "         standing                     163\n",
      "         standing_hosehold_chores     977\n",
      "         vacuum_cleaning              489\n",
      "         walking                     2470\n",
      "         walkingStairsUp               41\n",
      "5        jumping                       55\n",
      "         lying                        978\n",
      "         sitting                     1466\n",
      "         standing                     421\n",
      "         standing_hosehold_chores     978\n",
      "         vacuum_cleaning              490\n",
      "         walking                     2443\n",
      "         walkingStairsUp               41\n",
      "dtype: int64\n"
     ]
    }
   ],
   "source": [
    "# Label counts per user in train_2\n",
    "print(\"\\nLabel counts per user in train_2:\")\n",
    "print(train_2.groupby(['user_id', 'label']).size())\n",
    "\n",
    "# Label counts per user in new test_data\n",
    "print(\"\\nLabel counts per user in new test_data:\")\n",
    "print(test_data_new.groupby(['user_id', 'label']).size())\n"
   ]
  },
  {
   "cell_type": "code",
   "execution_count": 13,
   "id": "dda1f47d-95b8-4851-ac3e-313681484c68",
   "metadata": {},
   "outputs": [
    {
     "name": "stdout",
     "output_type": "stream",
     "text": [
      "\n",
      "Label counts in train_2:\n",
      "label\n",
      "walking                     644\n",
      "sitting                     361\n",
      "cycling                     348\n",
      "standing_hosehold_chores    257\n",
      "lying                       249\n",
      "vacuum_cleaning             135\n",
      "standing                     53\n",
      "jumping                      12\n",
      "walkingStairsUp              11\n",
      "Name: count, dtype: int64\n",
      "\n",
      "Label counts in new test_data:\n",
      "label\n",
      "walking                     12285\n",
      "sitting                      6903\n",
      "cycling                      6641\n",
      "standing_hosehold_chores     4944\n",
      "lying                        4778\n",
      "vacuum_cleaning              2609\n",
      "standing                     1056\n",
      "jumping                       286\n",
      "walkingStairsUp               238\n",
      "Name: count, dtype: int64\n"
     ]
    }
   ],
   "source": [
    "# Overall label count in train_2\n",
    "print(\"\\nLabel counts in train_2:\")\n",
    "print(train_2['label'].value_counts())\n",
    "\n",
    "# Overall label count in new test_data\n",
    "print(\"\\nLabel counts in new test_data:\")\n",
    "print(test_data_new['label'].value_counts())\n"
   ]
  },
  {
   "cell_type": "code",
   "execution_count": null,
   "id": "e927df53-113a-460d-a87f-7152049a3c19",
   "metadata": {},
   "outputs": [],
   "source": []
  }
 ],
 "metadata": {
  "kernelspec": {
   "display_name": "Python [conda env:base] *",
   "language": "python",
   "name": "conda-base-py"
  },
  "language_info": {
   "codemirror_mode": {
    "name": "ipython",
    "version": 3
   },
   "file_extension": ".py",
   "mimetype": "text/x-python",
   "name": "python",
   "nbconvert_exporter": "python",
   "pygments_lexer": "ipython3",
   "version": "3.11.7"
  }
 },
 "nbformat": 4,
 "nbformat_minor": 5
}
