{
 "cells": [
  {
   "cell_type": "code",
   "execution_count": 24,
   "id": "9365e1a1-9885-427e-b160-02f7f879b875",
   "metadata": {},
   "outputs": [],
   "source": [
    "import pandas as pd\n",
    "df = pd.read_csv('combined_file.csv')"
   ]
  },
  {
   "cell_type": "code",
   "execution_count": 25,
   "id": "ff147320-a9ef-484c-a8fc-b4c11158075f",
   "metadata": {},
   "outputs": [
    {
     "name": "stdout",
     "output_type": "stream",
     "text": [
      "Number of Unique Activities: 9\n",
      "labels: ['jumping' 'standing' 'lying' 'sitting' 'walkingStairsUp'\n",
      " 'standing_hosehold_chores' 'vacuum_cleaning' 'walking' 'cycling']\n"
     ]
    }
   ],
   "source": [
    "# Get unique activities from the \"Activity\" column\n",
    "unique_activities = df['label'].unique()\n",
    "\n",
    "# Print the number of unique activities\n",
    "print('Number of Unique Activities: {}'.format(len(unique_activities)))\n",
    "\n",
    "# print the unique activity names\n",
    "print('labels:', unique_activities)\n"
   ]
  },
  {
   "cell_type": "code",
   "execution_count": 26,
   "id": "80539a3e-4415-4d07-8fd2-87b41d2da07e",
   "metadata": {},
   "outputs": [
    {
     "name": "stdout",
     "output_type": "stream",
     "text": [
      "Index(['Unnamed: 0', 'time', 'AccX', 'AccY', 'AccZ', 'label', 'user_id'], dtype='object')\n"
     ]
    }
   ],
   "source": [
    "print(df.columns)\n"
   ]
  },
  {
   "cell_type": "code",
   "execution_count": null,
   "id": "4512116c-32d4-4ab6-b801-35ddb250b4de",
   "metadata": {},
   "outputs": [],
   "source": []
  },
  {
   "cell_type": "code",
   "execution_count": null,
   "id": "bd4d9b3c-d865-488f-9793-b1f357f6f2fc",
   "metadata": {},
   "outputs": [],
   "source": []
  },
  {
   "cell_type": "code",
   "execution_count": 51,
   "id": "9d4edab0-d80d-4526-8c4e-b67476560b45",
   "metadata": {},
   "outputs": [
    {
     "name": "stdout",
     "output_type": "stream",
     "text": [
      "Timestamp in row 1: 1449044969996.0\n",
      "Timestamp in row 10: 1449044971746.0\n",
      "Time difference in milliseconds: 1750.0 ms\n",
      "Time difference in seconds: 1.75 seconds\n"
     ]
    }
   ],
   "source": [
    "\n",
    "# Print timestamps of row 1 and row 10\n",
    "timestamp_row_1 = df['time'].iloc[0]\n",
    "timestamp_row_10 = df['time'].iloc[150]\n",
    "\n",
    "print(f\"Timestamp in row 1: {timestamp_row_1}\")\n",
    "print(f\"Timestamp in row 10: {timestamp_row_10}\")\n",
    "\n",
    "# Calculate the time difference in milliseconds\n",
    "time_difference_ms = timestamp_row_10 - timestamp_row_1\n",
    "print(f\"Time difference in milliseconds: {time_difference_ms} ms\")\n",
    "\n",
    "# Convert to seconds if needed\n",
    "time_difference_seconds = time_difference_ms / 1000\n",
    "print(f\"Time difference in seconds: {time_difference_seconds} seconds\")\n"
   ]
  },
  {
   "cell_type": "code",
   "execution_count": 28,
   "id": "450b8c87-c47e-4dce-acac-99d0cbf2de60",
   "metadata": {},
   "outputs": [
    {
     "name": "stdout",
     "output_type": "stream",
     "text": [
      "CSV file 'windowed_features.csv' created successfully.\n"
     ]
    }
   ],
   "source": [
    "import pandas as pd\n",
    "\n",
    "\n",
    "\n",
    "# Parameters\n",
    "window_size = 150  # Number of rows per window\n",
    "step_size = 30     # Step size for 80% overlap (150 * 0.2 = 30)\n",
    "\n",
    "# List to store the windows\n",
    "windows = []\n",
    "\n",
    "# Unique window ID counter\n",
    "window_id = 0\n",
    "\n",
    "# Group by user ID and activity label to avoid mixing data from different users or activities\n",
    "for label, group_data in df.groupby(['label']):\n",
    "    # Create windows of 150 rows with 80% overlap within each group\n",
    "    for start in range(0, len(group_data) - window_size + 1, step_size):\n",
    "        end = start + window_size\n",
    "        window = group_data.iloc[start:end].copy()  # Create a copy of the window\n",
    "        window['window_id'] = window_id  # Assign a unique window_id to each window\n",
    "        windows.append(window)\n",
    "        window_id += 1  # Increment the window_id for the next window\n",
    "\n",
    "# Combine all windows into a single DataFrame\n",
    "windowed_data = pd.concat(windows, ignore_index=True)\n",
    "\n",
    "# Save the final DataFrame with window IDs to a new CSV file\n",
    "windowed_data.to_csv('train_data.csv', index=False)\n",
    "\n",
    "print(\"CSV file 'windowed_features.csv' created successfully.\")\n"
   ]
  },
  {
   "cell_type": "code",
   "execution_count": null,
   "id": "571e2714-c8f3-477e-aedc-e73b47f07c88",
   "metadata": {},
   "outputs": [],
   "source": []
  },
  {
   "cell_type": "code",
   "execution_count": 29,
   "id": "bbca2786-d4ae-4c5d-8e3a-b01e3288f374",
   "metadata": {},
   "outputs": [
    {
     "data": {
      "text/plain": [
       "244811"
      ]
     },
     "execution_count": 29,
     "metadata": {},
     "output_type": "execute_result"
    }
   ],
   "source": [
    "\n",
    "import pandas as pd\n",
    "\n",
    "# Load the generated windowed data\n",
    "windowed_data = pd.read_csv('train_data.csv')\n",
    "\n",
    "# Count the unique window IDs to determine the number of windows\n",
    "num_windows = windowed_data['window_id'].nunique()\n",
    "\n",
    "num_windows\n"
   ]
  },
  {
   "cell_type": "code",
   "execution_count": 30,
   "id": "8c07253f-0bd5-44a3-b73d-d48b82a087ff",
   "metadata": {},
   "outputs": [
    {
     "name": "stdout",
     "output_type": "stream",
     "text": [
      "   Unnamed: 0          time    AccX    AccY    AccZ    label  user_id  \\\n",
      "0      390129  1.449049e+12 -0.3704  0.8633 -0.4630  cycling        1   \n",
      "1      390130  1.449049e+12 -0.3974  0.5605 -0.7601  cycling        1   \n",
      "2      390131  1.449049e+12 -0.3319  0.2849 -0.5568  cycling        1   \n",
      "3      390132  1.449049e+12 -0.6365  0.6148 -0.7796  cycling        1   \n",
      "4      390133  1.449049e+12 -0.5054  0.4130 -0.7210  cycling        1   \n",
      "\n",
      "   window_id  \n",
      "0          0  \n",
      "1          0  \n",
      "2          0  \n",
      "3          0  \n",
      "4          0  \n"
     ]
    }
   ],
   "source": [
    "print(windowed_data.head())\n"
   ]
  },
  {
   "cell_type": "code",
   "execution_count": 31,
   "id": "56d53ed8-c458-4c6e-8277-1a777f40df69",
   "metadata": {},
   "outputs": [],
   "source": [
    "import pandas as pd\n",
    "import numpy as np\n",
    "from scipy.stats import skew, kurtosis, iqr, entropy\n",
    "from numpy.fft import fft\n",
    "\n",
    "def calculate_features(window):\n",
    "    features = {}\n",
    "    axes = {'AccX': 'Ax', 'AccY': 'Ay', 'AccZ': 'Az'}\n",
    " \n",
    "    for axis in axes.keys():\n",
    "        data = window[axis]\n",
    "\n",
    "        # Handle NaN and infinite values\n",
    "        data = data.replace([np.inf, -np.inf], np.nan)  # Replace infinities if any\n",
    "        data = data.dropna()  # Drop NaN values\n",
    "        \n",
    "        if data.empty:\n",
    "            continue  \n",
    "\n",
    "        features[f'{axes[axis]}_mean'] = np.mean(data)\n",
    "        features[f'{axes[axis]}_std'] = np.std(data)\n",
    "        features[f'{axes[axis]}_mad'] = np.mean(np.abs(data - np.mean(data)))\n",
    "        features[f'{axes[axis]}_max'] = np.max(data)\n",
    "        features[f'{axes[axis]}_min'] = np.min(data)\n",
    "        features[f'{axes[axis]}_sma'] = np.sum(np.abs(data)) / len(data)\n",
    "        features[f'{axes[axis]}_energy'] = np.sum(data ** 2) / len(data)\n",
    "        features[f'{axes[axis]}_iqr'] = iqr(data)\n",
    "\n",
    "        # Adjust histogram calculation for better handling\n",
    "        if len(data) > 0:\n",
    "            hist, _ = np.histogram(data.dropna(), bins=10)  # Ensure no NaN values are included\n",
    "            features[f'{axes[axis]}_entropy'] = entropy(hist + 1e-6) if np.sum(hist) > 0 else 0\n",
    "\n",
    "        # Frequency-domain features\n",
    "        freq_data = np.abs(fft(data))[:len(data) // 2]\n",
    "        features[f'{axes[axis]}_meanFreq'] = np.sum(freq_data * np.arange(len(freq_data))) / np.sum(freq_data)\n",
    "        features[f'{axes[axis]}_skewness'] = skew(data)\n",
    "        features[f'{axes[axis]}_kurtosis'] = kurtosis(data)\n",
    "        features[f'{axes[axis]}_maxInds'] = np.argmax(freq_data)\n",
    "\n",
    "    return features"
   ]
  },
  {
   "cell_type": "code",
   "execution_count": 32,
   "id": "caec9fc0-eebd-4df0-aa56-f59efe8b8e16",
   "metadata": {},
   "outputs": [],
   "source": [
    "# List to store each window's features\n",
    "features_list = []\n",
    "\n",
    "# Process each window to calculate features\n",
    "for window in windows:\n",
    "    if not window.empty:\n",
    "        window_id = window['window_id'].iloc[0]  # Ensure 'window_id' is a column in df\n",
    "        label = window['label'].iloc[0]  # Ensure 'label' is a column in df\n",
    "        user_id = window['user_id'].iloc[0]  # Ensure 'user_id' is a column in df\n",
    "\n",
    "        # Calculate features and add identifiers\n",
    "        features = calculate_features(window)\n",
    "        features['window_id'] = window_id\n",
    "        features['label'] = label\n",
    "        features['user_id'] = user_id\n",
    "\n",
    "        features_list.append(features)\n",
    "\n",
    "# Convert the list of feature dictionaries to a DataFrame\n",
    "features_df = pd.DataFrame(features_list)\n",
    "\n",
    "# Save the features to a new CSV file with features\n",
    "features_df.to_csv('data_features.csv', index=False)\n",
    "\n"
   ]
  },
  {
   "cell_type": "code",
   "execution_count": null,
   "id": "ec2c581a-d273-4ec9-b877-72f4437e9fbb",
   "metadata": {},
   "outputs": [],
   "source": []
  },
  {
   "cell_type": "code",
   "execution_count": 33,
   "id": "e12867ef-ccde-4b8b-8503-3cf6bd22465a",
   "metadata": {},
   "outputs": [
    {
     "name": "stdout",
     "output_type": "stream",
     "text": [
      "<bound method NDFrame.head of          Unnamed: 0          time    AccX    AccY    AccZ            label  \\\n",
      "0             12129  1.449045e+12 -0.1969  0.9021 -0.4356          jumping   \n",
      "1             12130  1.449045e+12 -0.2046  0.9060 -0.4317          jumping   \n",
      "2             12131  1.449045e+12 -0.2008  0.9021 -0.4317          jumping   \n",
      "3             12132  1.449045e+12 -0.1969  0.8982 -0.4356          jumping   \n",
      "4             12133  1.449045e+12 -0.1969  0.9060 -0.4278          jumping   \n",
      "...             ...           ...     ...     ...     ...              ...   \n",
      "7345472      329997  1.464600e+12 -0.4128 -0.1925 -0.9829  vacuum_cleaning   \n",
      "7345473      329998  1.464600e+12 -0.4206 -0.1964 -0.9829  vacuum_cleaning   \n",
      "7345474      329999  1.464600e+12 -0.4090 -0.2120 -0.9829  vacuum_cleaning   \n",
      "7345475      330000  1.464600e+12 -0.4167 -0.2624 -0.9751  vacuum_cleaning   \n",
      "7345476      330001  1.464600e+12 -0.3242 -0.2158 -0.9399  vacuum_cleaning   \n",
      "\n",
      "         user_id  \n",
      "0              1  \n",
      "1              1  \n",
      "2              1  \n",
      "3              1  \n",
      "4              1  \n",
      "...          ...  \n",
      "7345472       35  \n",
      "7345473       35  \n",
      "7345474       35  \n",
      "7345475       35  \n",
      "7345476       35  \n",
      "\n",
      "[7345477 rows x 7 columns]>\n"
     ]
    }
   ],
   "source": [
    "# Print all column names in the DataFrame\n",
    "print(df.head)\n"
   ]
  },
  {
   "cell_type": "code",
   "execution_count": 34,
   "id": "e6f68969-77c5-404a-a8b9-a01d7be42eb8",
   "metadata": {},
   "outputs": [
    {
     "name": "stdout",
     "output_type": "stream",
     "text": [
      "Saved GOTOV_with_WINDOWS_1.csv\n",
      "Saved GOTOV_with_WINDOWS_2.csv\n",
      "Saved GOTOV_with_WINDOWS_3.csv\n",
      "Saved GOTOV_with_WINDOWS_4.csv\n",
      "Saved GOTOV_with_WINDOWS_5.csv\n",
      "Saved GOTOV_with_WINDOWS_6.csv\n",
      "Saved GOTOV_with_WINDOWS_7.csv\n",
      "Saved GOTOV_with_WINDOWS_8.csv\n",
      "Saved GOTOV_with_WINDOWS_9.csv\n",
      "Saved GOTOV_with_WINDOWS_10.csv\n",
      "Saved GOTOV_with_WINDOWS_11.csv\n",
      "Saved GOTOV_with_WINDOWS_12.csv\n",
      "Saved GOTOV_with_WINDOWS_13.csv\n",
      "Saved GOTOV_with_WINDOWS_14.csv\n",
      "Saved GOTOV_with_WINDOWS_15.csv\n",
      "Saved GOTOV_with_WINDOWS_16.csv\n",
      "Saved GOTOV_with_WINDOWS_17.csv\n",
      "Saved GOTOV_with_WINDOWS_18.csv\n",
      "Saved GOTOV_with_WINDOWS_19.csv\n",
      "Saved GOTOV_with_WINDOWS_20.csv\n",
      "Saved GOTOV_with_WINDOWS_21.csv\n",
      "Saved GOTOV_with_WINDOWS_22.csv\n",
      "Saved GOTOV_with_WINDOWS_23.csv\n",
      "Saved GOTOV_with_WINDOWS_24.csv\n",
      "Saved GOTOV_with_WINDOWS_25.csv\n",
      "Saved GOTOV_with_WINDOWS_26.csv\n",
      "Saved GOTOV_with_WINDOWS_27.csv\n",
      "Saved GOTOV_with_WINDOWS_28.csv\n",
      "Saved GOTOV_with_WINDOWS_29.csv\n",
      "Saved GOTOV_with_WINDOWS_30.csv\n",
      "Saved GOTOV_with_WINDOWS_31.csv\n",
      "Saved GOTOV_with_WINDOWS_32.csv\n",
      "Saved GOTOV_with_WINDOWS_33.csv\n",
      "Saved GOTOV_with_WINDOWS_34.csv\n",
      "Saved GOTOV_with_WINDOWS_35.csv\n"
     ]
    }
   ],
   "source": [
    "# Load the CSV file\n",
    "\n",
    "# Group the DataFrame by 'user_id'\n",
    "grouped = features_df.groupby('user_id')\n",
    "\n",
    "# Loop through the users and save each users to a separate CSV file\n",
    "for user_id, group in grouped:\n",
    "    filename = f'GOTOV_with_WINDOWS_{user_id}.csv'\n",
    "    group.to_csv(filename, index=False)\n",
    "    print(f'Saved {filename}')\n"
   ]
  },
  {
   "cell_type": "code",
   "execution_count": null,
   "id": "081f63fc-099a-4097-ad38-853b4bb8abc5",
   "metadata": {},
   "outputs": [],
   "source": []
  }
 ],
 "metadata": {
  "kernelspec": {
   "display_name": "Python [conda env:base] *",
   "language": "python",
   "name": "conda-base-py"
  },
  "language_info": {
   "codemirror_mode": {
    "name": "ipython",
    "version": 3
   },
   "file_extension": ".py",
   "mimetype": "text/x-python",
   "name": "python",
   "nbconvert_exporter": "python",
   "pygments_lexer": "ipython3",
   "version": "3.11.7"
  }
 },
 "nbformat": 4,
 "nbformat_minor": 5
}
